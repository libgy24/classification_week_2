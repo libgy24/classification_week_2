{
 "cells": [
  {
   "cell_type": "code",
   "execution_count": 34,
   "metadata": {
    "collapsed": false
   },
   "outputs": [],
   "source": [
    "import numpy as np \n",
    "import pandas as pd\n",
    "pd.set_option('display.max_colwidth', -1)\n",
    "np.set_printoptions(threshold=np.nan)"
   ]
  },
  {
   "cell_type": "code",
   "execution_count": 53,
   "metadata": {
    "collapsed": false
   },
   "outputs": [],
   "source": [
    "# import dataset \n",
    "products = pd.read_csv('amazon_baby_subset.csv')\n",
    "\n",
    "# import json file \n",
    "\n",
    "import json \n",
    "with open('important_words.json') as important_words:\n",
    "    important_words = json.load(important_words)\n",
    "    \n"
   ]
  },
  {
   "cell_type": "code",
   "execution_count": 31,
   "metadata": {
    "collapsed": false
   },
   "outputs": [
    {
     "data": {
      "text/plain": [
       "0    Stop Pacifier Sucking without tears with Thumbuddy To Love's Binky Fairy Puppet and Adorable Book\n",
       "1    Nature's Lullabies Second Year Sticker Calendar                                                  \n",
       "2    Nature's Lullabies Second Year Sticker Calendar                                                  \n",
       "3    Lamaze Peekaboo, I Love You                                                                      \n",
       "4    SoftPlay Peek-A-Boo Where's Elmo A Children's Book                                               \n",
       "5    Our Baby Girl Memory Book                                                                        \n",
       "6    Hunnt&reg; Falling Flowers and Birds Kids Nursery Home Decor Vinyl Mural Art Wall Paper Stickers \n",
       "7    Blessed By Pope Benedict XVI Divine Mercy Full Color Medal                                       \n",
       "8    Cloth Diaper Pins Stainless Steel Traditional Safety Pin (Black)                                 \n",
       "9    Cloth Diaper Pins Stainless Steel Traditional Safety Pin (Black)                                 \n",
       "Name: name, dtype: object"
      ]
     },
     "execution_count": 31,
     "metadata": {},
     "output_type": "execute_result"
    }
   ],
   "source": [
    "# display first 10 names in the dataframe\n",
    "products['name'][0:10,]"
   ]
  },
  {
   "cell_type": "code",
   "execution_count": 39,
   "metadata": {
    "collapsed": false
   },
   "outputs": [
    {
     "data": {
      "text/html": [
       "<div>\n",
       "<table border=\"1\" class=\"dataframe\">\n",
       "  <thead>\n",
       "    <tr style=\"text-align: right;\">\n",
       "      <th></th>\n",
       "      <th>name</th>\n",
       "      <th>review</th>\n",
       "      <th>rating</th>\n",
       "    </tr>\n",
       "    <tr>\n",
       "      <th>sentiment</th>\n",
       "      <th></th>\n",
       "      <th></th>\n",
       "      <th></th>\n",
       "    </tr>\n",
       "  </thead>\n",
       "  <tbody>\n",
       "    <tr>\n",
       "      <th>-1</th>\n",
       "      <td>26461</td>\n",
       "      <td>26393</td>\n",
       "      <td>26493</td>\n",
       "    </tr>\n",
       "    <tr>\n",
       "      <th>1</th>\n",
       "      <td>26521</td>\n",
       "      <td>26438</td>\n",
       "      <td>26579</td>\n",
       "    </tr>\n",
       "  </tbody>\n",
       "</table>\n",
       "</div>"
      ],
      "text/plain": [
       "            name  review  rating\n",
       "sentiment                       \n",
       "-1         26461  26393   26493 \n",
       " 1         26521  26438   26579 "
      ]
     },
     "execution_count": 39,
     "metadata": {},
     "output_type": "execute_result"
    }
   ],
   "source": [
    "# count \n",
    "\n",
    "products.groupby('sentiment').count()"
   ]
  },
  {
   "cell_type": "code",
   "execution_count": 54,
   "metadata": {
    "collapsed": false
   },
   "outputs": [],
   "source": [
    "# replace empty string with n/a in review column\n",
    "\n",
    "products = products.fillna({'review':''})\n",
    "\n",
    "# remove punctutation\n",
    "\n",
    "def remove_punctuation(text):\n",
    "    import string\n",
    "    return text.translate(None,string.punctuation)\n",
    "\n",
    "products['review_clean'] = products['review'].apply(remove_punctuation)\n",
    "\n",
    "\n",
    "# for each word in important__words, we compute a count for the number of times the word occurs in the review. \n",
    "# We will store tis count in a separate column (one for each word). The result of this feature processing is a single \n",
    "# column for each word in important_words which keeps a count of the number of times the respective word occurs in \n",
    "# the review text.\n",
    "\n",
    "for word in important_words:\n",
    "    products[word] =products['review_clean'].apply(lambda s: s.split().count(word))"
   ]
  },
  {
   "cell_type": "code",
   "execution_count": 58,
   "metadata": {
    "collapsed": false,
    "scrolled": true
   },
   "outputs": [
    {
     "data": {
      "text/plain": [
       "2955"
      ]
     },
     "execution_count": 58,
     "metadata": {},
     "output_type": "execute_result"
    }
   ],
   "source": [
    "# create a column in products to count the number of reviews that contains 'perfect'\n",
    "\n",
    "products['contains_perfect'] =[1 if x>=1 else 0 for x in products['perfect']]\n",
    "\n",
    "# count\n",
    "\n",
    "np.sum(products['contains_perfect'])"
   ]
  },
  {
   "cell_type": "code",
   "execution_count": 60,
   "metadata": {
    "collapsed": true
   },
   "outputs": [],
   "source": [
    "# create a function that accept three parameters: dataframe, feature, label\n",
    "\n",
    "def get_numpy_data(dataframe, features, label):\n",
    "    dataframe['constant'] =1\n",
    "    features = ['constant'] + features\n",
    "    features_matrix = dataframe[features].values\n",
    "    label_array = dataframe[label].values\n",
    "    return features_matrix,label_array"
   ]
  },
  {
   "cell_type": "code",
   "execution_count": null,
   "metadata": {
    "collapsed": true
   },
   "outputs": [],
   "source": []
  }
 ],
 "metadata": {
  "kernelspec": {
   "display_name": "Python 2",
   "language": "python",
   "name": "python2"
  },
  "language_info": {
   "codemirror_mode": {
    "name": "ipython",
    "version": 2
   },
   "file_extension": ".py",
   "mimetype": "text/x-python",
   "name": "python",
   "nbconvert_exporter": "python",
   "pygments_lexer": "ipython2",
   "version": "2.7.11"
  }
 },
 "nbformat": 4,
 "nbformat_minor": 0
}
